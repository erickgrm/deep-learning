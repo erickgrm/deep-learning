{
 "cells": [
  {
   "cell_type": "markdown",
   "metadata": {},
   "source": [
    "## Classifying (images of) clothing items with tensorflow"
   ]
  },
  {
   "cell_type": "code",
   "execution_count": 1,
   "metadata": {},
   "outputs": [],
   "source": [
    "import tensorflow as tf\n",
    "import numpy as np\n",
    "import matplotlib.pyplot as plt\n",
    "import pandas as pd\n",
    "import tensorflow_datasets as tfds"
   ]
  },
  {
   "cell_type": "code",
   "execution_count": 2,
   "metadata": {},
   "outputs": [
    {
     "name": "stderr",
     "output_type": "stream",
     "text": [
      "WARNING:absl:Warning: Setting shuffle_files=True because split=TRAIN and shuffle_files=None. This behavior will be deprecated on 2019-08-06, at which point shuffle_files=False will be the default for all splits.\n"
     ]
    }
   ],
   "source": [
    "# tfds.load returns a tf.data.Dataset object and a tf.core.DatasetInfo object. The latter contains info about how the set is split \n",
    "# into test and train, number of examples and names of features\n",
    "dataset, metadata = tfds.load('fashion_mnist', as_supervised=True, with_info=True) \n",
    "train_dataset, test_dataset = dataset['train'], dataset['test']"
   ]
  },
  {
   "cell_type": "code",
   "execution_count": 3,
   "metadata": {},
   "outputs": [
    {
     "data": {
      "image/png": "[encoded data removed]",
      "text/plain": [
       "<Figure size 432x288 with 1 Axes>"
      ]
     },
     "metadata": {
      "needs_background": "light"
     },
     "output_type": "display_data"
    }
   ],
   "source": [
    "# Human readable labels for the classes\n",
    "class_names = ['T-shirt/top', 'Trouser', 'Pullover', 'Dress', 'Coat',\n",
    "               'Sandal',      'Shirt',   'Sneaker',  'Bag',   'Ankle boot']\n",
    "# Print example\n",
    "for (image, label) in train_dataset.take(1):\n",
    "    image = image.numpy().reshape((28,28))\n",
    "    #label = label.numpy()\n",
    "    plt.imshow(image, cmap= plt.cm.binary)\n",
    "    plt.xlabel((label.numpy(), class_names[label]))"
   ]
  },
  {
   "cell_type": "code",
   "execution_count": 4,
   "metadata": {},
   "outputs": [
    {
     "name": "stdout",
     "output_type": "stream",
     "text": [
      "Number of training examples: 60000\n",
      "Number of test examples:     10000\n"
     ]
    }
   ],
   "source": [
    "# Size of training and test sets\n",
    "train_size = metadata.splits['train'].num_examples\n",
    "test_size = metadata.splits['test'].num_examples\n",
    "print(\"Number of training examples: {}\".format(train_size))\n",
    "print(\"Number of test examples:     {}\".format(test_size))"
   ]
  },
  {
   "cell_type": "code",
   "execution_count": 5,
   "metadata": {},
   "outputs": [],
   "source": [
    "# Normalise data\n",
    "def minmaxScaling(images, labels):\n",
    "    images = tf.cast(images, tf.float32)\n",
    "    images = images/255\n",
    "    return images, labels\n",
    "\n",
    "train_dataset = train_dataset.map(minmaxScaling)\n",
    "test_dataset = test_dataset.map(minmaxScaling)"
   ]
  },
  {
   "cell_type": "code",
   "execution_count": 6,
   "metadata": {},
   "outputs": [
    {
     "data": {
      "image/png": "[encoded data removed]",
      "text/plain": [
       "<Figure size 432x288 with 1 Axes>"
      ]
     },
     "metadata": {
      "needs_background": "light"
     },
     "output_type": "display_data"
    }
   ],
   "source": [
    "# Print example after normalisation\n",
    "for image, label in train_dataset.take(1):\n",
    "    image = image.numpy().reshape((28,28))\n",
    "    plt.imshow(image, cmap= plt.cm.binary)\n",
    "    plt.xlabel((label.numpy(), class_names[label]))"
   ]
  },
  {
   "cell_type": "markdown",
   "metadata": {},
   "source": [
    "## Model setup and training"
   ]
  },
  {
   "cell_type": "code",
   "execution_count": 7,
   "metadata": {},
   "outputs": [],
   "source": [
    "# Model setup\n",
    "# One dense layer with 128 neurons, output layer with 10 neurons\n",
    "# Rather slight improvement increasing number of neurons or adding more dense layers\n",
    "model = tf.keras.Sequential([\n",
    "    tf.keras.layers.Flatten(input_shape=([28,28,1])),\n",
    "    tf.keras.layers.Dense(units=128, input_shape=([784]), activation=('relu')),\n",
    "    tf.keras.layers.Dense(units=10, input_shape=([1]), activation=('softmax'))\n",
    "])\n",
    "# Compile model\n",
    "model.compile(loss='sparse_categorical_crossentropy', \n",
    "              optimizer = 'adam',\n",
    "              #optimizer = tf.keras.optimizers.Adam(0.1), \n",
    "              metrics=['accuracy'])"
   ]
  },
  {
   "cell_type": "code",
   "execution_count": 8,
   "metadata": {},
   "outputs": [],
   "source": [
    "# Shuffling and splitting of training set \n",
    "BATCH_SIZE = 32\n",
    "train_dataset = train_dataset.repeat().shuffle(train_size).batch(BATCH_SIZE)\n",
    "test_dataset_batched = test_dataset.batch(BATCH_SIZE)"
   ]
  },
  {
   "cell_type": "code",
   "execution_count": 9,
   "metadata": {},
   "outputs": [
    {
     "name": "stdout",
     "output_type": "stream",
     "text": [
      "Epoch 1/5\n",
      "WARNING:tensorflow:From /home/erick/anaconda3/envs/env1/lib/python3.7/site-packages/tensorflow/python/ops/math_grad.py:1250: add_dispatch_support.<locals>.wrapper (from tensorflow.python.ops.array_ops) is deprecated and will be removed in a future version.\n",
      "Instructions for updating:\n",
      "Use tf.where in 2.0, which has the same broadcast rule as np.where\n"
     ]
    },
    {
     "name": "stderr",
     "output_type": "stream",
     "text": [
      "WARNING:tensorflow:From /home/erick/anaconda3/envs/env1/lib/python3.7/site-packages/tensorflow/python/ops/math_grad.py:1250: add_dispatch_support.<locals>.wrapper (from tensorflow.python.ops.array_ops) is deprecated and will be removed in a future version.\n",
      "Instructions for updating:\n",
      "Use tf.where in 2.0, which has the same broadcast rule as np.where\n"
     ]
    },
    {
     "name": "stdout",
     "output_type": "stream",
     "text": [
      "1875/1875 [==============================] - 84s 45ms/step - loss: 0.4978 - accuracy: 0.8259\n",
      "Epoch 2/5\n",
      "1875/1875 [==============================] - 63s 34ms/step - loss: 0.3733 - accuracy: 0.8647\n",
      "Epoch 3/5\n",
      "1875/1875 [==============================] - 62s 33ms/step - loss: 0.3323 - accuracy: 0.8796\n",
      "Epoch 4/5\n",
      "1875/1875 [==============================] - 36s 19ms/step - loss: 0.3144 - accuracy: 0.8854\n",
      "Epoch 5/5\n",
      "1875/1875 [==============================] - 29s 16ms/step - loss: 0.2924 - accuracy: 0.8922\n"
     ]
    }
   ],
   "source": [
    "# Training model \n",
    "trained = model.fit(train_dataset, epochs=5, verbose=True, steps_per_epoch=np.ceil(train_size/BATCH_SIZE))"
   ]
  },
  {
   "cell_type": "code",
   "execution_count": 10,
   "metadata": {},
   "outputs": [
    {
     "name": "stdout",
     "output_type": "stream",
     "text": [
      "313/313 [==============================] - 3s 10ms/step - loss: 0.3614 - accuracy: 0.8659\n"
     ]
    }
   ],
   "source": [
    "# Evaluation on test set\n",
    "test_loss, test_acc = model.evaluate(test_dataset_batched, steps=np.ceil(test_size/BATCH_SIZE))\n",
    "predictions = model.predict(test_dataset_batched)"
   ]
  },
  {
   "cell_type": "code",
   "execution_count": 11,
   "metadata": {},
   "outputs": [
    {
     "data": {
      "image/png": "[encoded data removed]",
      "text/plain": [
       "<Figure size 720x720 with 9 Axes>"
      ]
     },
     "metadata": {
      "needs_background": "light"
     },
     "output_type": "display_data"
    }
   ],
   "source": [
    "# Print example and its predicted class\n",
    "plt.figure(figsize=(10,10))\n",
    "\n",
    "i = 0\n",
    "for (image, label) in test_dataset.take(9):\n",
    "    image = image.numpy().reshape((28,28))\n",
    "    plt.subplot(3,3,i+1)\n",
    "    plt.imshow(image, cmap= plt.cm.binary)\n",
    "    plt.xlabel((class_names[label], class_names[predictions[i].argmax()]))\n",
    "    i += 1\n",
    "plt.show()"
   ]
  },
  {
   "cell_type": "code",
   "execution_count": 13,
   "metadata": {},
   "outputs": [
    {
     "data": {
      "text/plain": [
       "[array([[-0.14727695,  0.09123856, -0.06246158, ...,  0.13127798,\n",
       "         -0.0024153 , -0.07473824],\n",
       "        [ 0.11974981, -0.10561525,  0.03284364, ..., -0.05102951,\n",
       "         -0.01063487,  0.14299136],\n",
       "        [ 0.03571215, -0.34773672, -0.02795098, ..., -0.05592003,\n",
       "         -0.03013276,  0.10450478],\n",
       "        ...,\n",
       "        [ 0.14286609,  0.0441094 , -0.01752933, ...,  0.04693229,\n",
       "          0.03415076,  0.04210608],\n",
       "        [-0.02906996, -0.13227043,  0.01652233, ..., -0.0794643 ,\n",
       "          0.11850279, -0.16984713],\n",
       "        [-0.02206863, -0.06998254, -0.09983463, ...,  0.03261673,\n",
       "         -0.0492616 ,  0.18449327]], dtype=float32),\n",
       " array([-0.11110749,  0.41456872,  0.11258255,  0.03631807,  0.46197483,\n",
       "         0.43403178,  0.19411993,  0.07887098,  0.12723075,  0.01758726,\n",
       "        -0.27102405,  0.03648139,  0.16262859,  0.15533493,  0.30759504,\n",
       "         0.18293548,  0.4779776 ,  0.02916278,  0.21631376, -0.01706176,\n",
       "        -0.20275725,  0.05453487,  0.01892412,  0.13711824,  0.1208676 ,\n",
       "        -0.37725183,  0.04244196, -0.03118228,  0.24713273,  0.47481623,\n",
       "         0.20121396,  0.11514097,  0.4050621 , -0.15641655, -0.02715272,\n",
       "         0.3282771 ,  0.23498014,  0.6929231 ,  0.25334707, -0.20654234,\n",
       "        -0.16006665,  0.22285546, -0.28923774,  0.16200098, -0.0255412 ,\n",
       "        -0.02157512, -0.12048852,  0.34562317,  0.09030373,  0.0660495 ,\n",
       "         0.42851746, -0.24737504, -0.05869294, -0.01577098,  0.17113164,\n",
       "         0.1152085 , -0.06335802, -0.12059374,  0.13944468, -0.05362597,\n",
       "         0.2522259 , -0.00437741,  0.13024907,  0.29475442, -0.15798758,\n",
       "         0.4394397 ,  0.01021675,  0.3521501 ,  0.17732894, -0.06631283,\n",
       "        -0.2831488 ,  0.00476187,  0.15923378, -0.16020548,  0.37901962,\n",
       "        -0.08033888, -0.10087505,  0.35125366,  0.02035071,  0.29283753,\n",
       "         0.15897042,  0.0666528 , -0.1035447 ,  0.14416237,  0.21037187,\n",
       "        -0.4915618 ,  0.4779279 ,  0.15034135,  0.41637826,  0.07386669,\n",
       "        -0.00773282,  0.34516722,  0.03272973,  0.02308396, -0.3288569 ,\n",
       "         0.4028558 , -0.07830341,  0.15170842, -0.07737184,  0.33794278,\n",
       "         0.33948553, -0.01695709,  0.3098953 ,  0.29930753, -0.04587964,\n",
       "         0.30431542, -0.24528246,  0.3122457 ,  0.25598684,  0.33041447,\n",
       "         0.37499505, -0.01907947,  0.40131733,  0.40969747,  0.34185332,\n",
       "         0.08782801,  0.15663357,  0.5536626 ,  0.541497  ,  0.21926394,\n",
       "         0.31279612,  0.07858913, -0.12516458, -0.12304752,  0.3947922 ,\n",
       "         0.2816507 , -0.2450441 ,  0.20861208], dtype=float32),\n",
       " array([[ 0.3812973 , -0.2392615 , -0.287443  , ...,  0.13580284,\n",
       "          0.2404402 , -0.01219628],\n",
       "        [-0.04068691, -0.28975472,  0.264777  , ...,  0.37451097,\n",
       "         -0.04991489, -0.19231261],\n",
       "        [-0.26501322,  0.09397177, -0.26861185, ...,  0.22087012,\n",
       "          0.20123325,  0.0681067 ],\n",
       "        ...,\n",
       "        [ 0.28441224, -0.07489599, -0.2441599 , ...,  0.1070917 ,\n",
       "         -0.27286276, -0.36143327],\n",
       "        [-0.34139916, -0.3710152 ,  0.00050411, ..., -0.06400562,\n",
       "          0.03922151,  0.08631819],\n",
       "        [ 0.08288616, -0.4439201 ,  0.18777558, ...,  0.1602769 ,\n",
       "          0.04009757,  0.2369693 ]], dtype=float32),\n",
       " array([ 0.02553201, -0.279642  ,  0.09542345,  0.24428333, -0.2987682 ,\n",
       "         0.19330283,  0.16777192,  0.13159159, -0.203441  , -0.37264034],\n",
       "       dtype=float32)]"
      ]
     },
     "execution_count": 13,
     "metadata": {},
     "output_type": "execute_result"
    }
   ],
   "source": [
    "model.get_weights()"
   ]
  }
 ],
 "metadata": {
  "kernelspec": {
   "display_name": "Python 3",
   "language": "python",
   "name": "python3"
  },
  "language_info": {
   "codemirror_mode": {
    "name": "ipython",
    "version": 3
   },
   "file_extension": ".py",
   "mimetype": "text/x-python",
   "name": "python",
   "nbconvert_exporter": "python",
   "pygments_lexer": "ipython3",
   "version": "3.7.1"
  }
 },
 "nbformat": 4,
 "nbformat_minor": 2
}
