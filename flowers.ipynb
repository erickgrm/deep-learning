{
 "cells": [
  {
   "cell_type": "code",
   "execution_count": 1,
   "metadata": {},
   "outputs": [],
   "source": [
    "import tensorflow as tf\n",
    "import numpy as np\n",
    "import matplotlib.pyplot as plt\n",
    "import pandas as pd\n",
    "import tensorflow_datasets as tfds"
   ]
  },
  {
   "cell_type": "code",
   "execution_count": 2,
   "metadata": {},
   "outputs": [],
   "source": [
    "(train_dataset, val_dataset), metadata = tfds.load('tf_flowers', \n",
    "                                                     split=tfds.Split.TRAIN.subsplit([70, 30]), \n",
    "                                                     as_supervised=True, with_info=True) \n",
    "classes = np.array(metadata.features['label'].names)"
   ]
  },
  {
   "cell_type": "code",
   "execution_count": 3,
   "metadata": {},
   "outputs": [
    {
     "name": "stdout",
     "output_type": "stream",
     "text": [
      "Number of training examples: 2590\n",
      "Number of training examples: 1080\n"
     ]
    }
   ],
   "source": [
    "# Size of training and test sets\n",
    "train_size = 0\n",
    "val_size = 0\n",
    "for example in train_dataset:\n",
    "    train_size += 1\n",
    "for example in val_dataset:\n",
    "    val_size += 1\n",
    "print(\"Number of training examples: {}\".format(train_size))\n",
    "print(\"Number of training examples: {}\".format(val_size))\n",
    "\n",
    "IMG_SIZE = 224\n",
    "# Normalise data\n",
    "def formatting(images, labels):\n",
    "    images = tf.cast(images, tf.float32)\n",
    "    images = tf.image.resize(images, (IMG_SIZE, IMG_SIZE))/255\n",
    "    return images, labels\n",
    "\n",
    "train_dataset = train_dataset.map(formatting)\n",
    "val_dataset = val_dataset.map(formatting)"
   ]
  },
  {
   "cell_type": "code",
   "execution_count": 4,
   "metadata": {},
   "outputs": [],
   "source": [
    "# Define model\n",
    "model = tf.keras.models.Sequential([\n",
    "    tf.keras.layers.Conv2D(filters=32, kernel_size=3, padding='same', activation='relu', data_format='channels_last'),\n",
    "    tf.keras.layers.MaxPooling2D(pool_size=2, padding='same'),\n",
    "    tf.keras.layers.Conv2D(filters=64, kernel_size=3, padding='same', activation='relu', data_format='channels_last'),\n",
    "    tf.keras.layers.MaxPooling2D(pool_size=2, padding='same'),\n",
    "    #tf.keras.layers.Conv2D(filters=128, kernel_size=3, padding='same', activation='relu', data_format='channels_last'),\n",
    "    #tf.keras.layers.MaxPooling2D(pool_size=2, padding='same'),\n",
    "    \n",
    "    tf.keras.layers.Flatten(),\n",
    "    tf.keras.layers.Dense(units=256, activation='relu'),\n",
    "    tf.keras.layers.Dropout(0.5),\n",
    "    tf.keras.layers.Dense(5, activation='softmax')\n",
    "])\n",
    "# Compile model\n",
    "model.compile(loss='sparse_categorical_crossentropy', \n",
    "              optimizer = 'adam',\n",
    "              metrics=['accuracy'])\n",
    "#model.summary()"
   ]
  },
  {
   "cell_type": "code",
   "execution_count": 5,
   "metadata": {},
   "outputs": [],
   "source": [
    "# Shuffling and splitting of training set \n",
    "BATCH_SIZE = 32\n",
    "train_dataset = train_dataset.repeat().shuffle(train_size).batch(BATCH_SIZE)\n",
    "val_dataset = val_dataset.batch(BATCH_SIZE)"
   ]
  },
  {
   "cell_type": "code",
   "execution_count": 6,
   "metadata": {},
   "outputs": [
    {
     "name": "stdout",
     "output_type": "stream",
     "text": [
      "Epoch 1/5\n",
      "WARNING:tensorflow:From /home/erick/anaconda3/envs/env1/lib/python3.7/site-packages/tensorflow/python/ops/math_grad.py:1250: add_dispatch_support.<locals>.wrapper (from tensorflow.python.ops.array_ops) is deprecated and will be removed in a future version.\n",
      "Instructions for updating:\n",
      "Use tf.where in 2.0, which has the same broadcast rule as np.where\n"
     ]
    },
    {
     "name": "stderr",
     "output_type": "stream",
     "text": [
      "WARNING:tensorflow:From /home/erick/anaconda3/envs/env1/lib/python3.7/site-packages/tensorflow/python/ops/math_grad.py:1250: add_dispatch_support.<locals>.wrapper (from tensorflow.python.ops.array_ops) is deprecated and will be removed in a future version.\n",
      "Instructions for updating:\n",
      "Use tf.where in 2.0, which has the same broadcast rule as np.where\n"
     ]
    },
    {
     "name": "stdout",
     "output_type": "stream",
     "text": [
      "81/81 [==============================] - 318s 4s/step - loss: 1.8511 - accuracy: 0.3672 - val_loss: 1.1634 - val_accuracy: 0.5176\n",
      "Epoch 2/5\n",
      "81/81 [==============================] - 348s 4s/step - loss: 1.0213 - accuracy: 0.5731 - val_loss: 1.1144 - val_accuracy: 0.5861\n",
      "Epoch 3/5\n",
      "81/81 [==============================] - 344s 4s/step - loss: 0.7433 - accuracy: 0.6973 - val_loss: 1.0300 - val_accuracy: 0.6361\n",
      "Epoch 4/5\n",
      "81/81 [==============================] - 354s 4s/step - loss: 0.4793 - accuracy: 0.8188 - val_loss: 1.3441 - val_accuracy: 0.5824\n",
      "Epoch 5/5\n",
      "81/81 [==============================] - 335s 4s/step - loss: 0.3144 - accuracy: 0.8859 - val_loss: 1.2836 - val_accuracy: 0.5963\n"
     ]
    }
   ],
   "source": [
    "# Fit model\n",
    "history = model.fit(train_dataset,\n",
    "                   epochs= 5,\n",
    "                   steps_per_epoch=np.ceil(train_size/BATCH_SIZE),\n",
    "                   validation_data=val_dataset,)"
   ]
  }
 ],
 "metadata": {
  "kernelspec": {
   "display_name": "Python 3",
   "language": "python",
   "name": "python3"
  },
  "language_info": {
   "codemirror_mode": {
    "name": "ipython",
    "version": 3
   },
   "file_extension": ".py",
   "mimetype": "text/x-python",
   "name": "python",
   "nbconvert_exporter": "python",
   "pygments_lexer": "ipython3",
   "version": "3.7.1"
  }
 },
 "nbformat": 4,
 "nbformat_minor": 2
}
