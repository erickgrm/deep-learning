{
 "cells": [
  {
   "cell_type": "markdown",
   "metadata": {},
   "source": [
    "## Regression for the conversion of temperatures in Celsius degrees to Farenheit\n",
    "1st exercise on Audacity course: Tensorflow\n",
    "\n",
    "AIM: the model should learn the formula $F = 1.8C+32$"
   ]
  },
  {
   "cell_type": "code",
   "execution_count": 1,
   "metadata": {},
   "outputs": [],
   "source": [
    "import tensorflow as tf\n",
    "import numpy as np\n",
    "import matplotlib.pyplot as plt"
   ]
  },
  {
   "cell_type": "code",
   "execution_count": 2,
   "metadata": {},
   "outputs": [],
   "source": [
    "# Training set\n",
    "X_celsius = np.array([-40, -10,  0,  8, 15, 22,  38], dtype=float)\n",
    "y_farenheit = np.array([-40,  14, 32, 46, 59, 72, 100], dtype=float)"
   ]
  },
  {
   "cell_type": "code",
   "execution_count": 3,
   "metadata": {},
   "outputs": [
    {
     "name": "stdout",
     "output_type": "stream",
     "text": [
      "Best error =  0.06470617651939392\n"
     ]
    },
    {
     "data": {
      "text/plain": [
       "[<matplotlib.lines.Line2D at 0x7fc3b0336780>]"
      ]
     },
     "execution_count": 3,
     "metadata": {},
     "output_type": "execute_result"
    },
    {
     "data": {
      "image/png": "[encoded data removed]",
      "text/plain": [
       "<Figure size 432x288 with 1 Axes>"
      ]
     },
     "metadata": {
      "needs_background": "light"
     },
     "output_type": "display_data"
    }
   ],
   "source": [
    "# Model setup and training\n",
    "# Perceptron: single hidden layer, one neuron. Reasonable as temperatures are continuos data. \n",
    "model = tf.keras.Sequential([\n",
    "    tf.keras.layers.Dense(units=1, input_shape=([1]))\n",
    "])\n",
    "# Model compile\n",
    "model.compile(loss='mean_squared_error', optimizer = tf.keras.optimizers.Adam(0.1))\n",
    "# Model training\n",
    "trained = model.fit(X_celsius, y_farenheit, epochs= 1000, verbose = False)\n",
    "# Results\n",
    "print(\"Best error = \", trained.history['loss'][-1])\n",
    "plt.plot(trained.history['loss'])"
   ]
  },
  {
   "cell_type": "code",
   "execution_count": 4,
   "metadata": {},
   "outputs": [
    {
     "name": "stdout",
     "output_type": "stream",
     "text": [
      "[-40.  14.  32.  46.  59.  72. 100.] [[-40.02073 ]\n",
      " [ 13.928373]\n",
      " [ 31.911407]\n",
      " [ 46.297836]\n",
      " [ 58.885956]\n",
      " [ 71.47408 ]\n",
      " [100.24693 ]]\n",
      "The weights of the trained model are:  [array([[1.7983034]], dtype=float32), array([31.911407], dtype=float32)]\n"
     ]
    }
   ],
   "source": [
    "print(y_farenheit, model.predict(X_celsius))\n",
    "print(\"The weights of the trained model are: \", model.get_weights())"
   ]
  },
  {
   "cell_type": "code",
   "execution_count": 5,
   "metadata": {},
   "outputs": [
    {
     "data": {
      "text/plain": [
       "array([[211.74174]], dtype=float32)"
      ]
     },
     "execution_count": 5,
     "metadata": {},
     "output_type": "execute_result"
    }
   ],
   "source": [
    "model.predict([100])"
   ]
  }
 ],
 "metadata": {
  "kernelspec": {
   "display_name": "Python 3",
   "language": "python",
   "name": "python3"
  },
  "language_info": {
   "codemirror_mode": {
    "name": "ipython",
    "version": 3
   },
   "file_extension": ".py",
   "mimetype": "text/x-python",
   "name": "python",
   "nbconvert_exporter": "python",
   "pygments_lexer": "ipython3",
   "version": "3.7.1"
  }
 },
 "nbformat": 4,
 "nbformat_minor": 2
}
