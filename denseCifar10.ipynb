{
 "cells": [
  {
   "cell_type": "code",
   "execution_count": 1,
   "metadata": {},
   "outputs": [],
   "source": [
    "import tensorflow as tf\n",
    "import numpy as np\n",
    "import matplotlib.pyplot as plt\n",
    "import pandas as pd\n",
    "import tensorflow_datasets as tfds"
   ]
  },
  {
   "cell_type": "code",
   "execution_count": 2,
   "metadata": {},
   "outputs": [
    {
     "name": "stderr",
     "output_type": "stream",
     "text": [
      "WARNING:absl:Warning: Setting shuffle_files=True because split=TRAIN and shuffle_files=None. This behavior will be deprecated on 2019-08-06, at which point shuffle_files=False will be the default for all splits.\n"
     ]
    }
   ],
   "source": [
    "# tfds.load returns a tf.data.Dataset object and a tf.core.DatasetInfo object. The latter contains info about how the set is split \n",
    "# into test and train, number of examples and names of features\n",
    "dataset, metadata = tfds.load('cifar10', as_supervised=True, with_info=True) \n",
    "train_dataset, test_dataset = dataset['train'], dataset['test']"
   ]
  },
  {
   "cell_type": "code",
   "execution_count": 3,
   "metadata": {},
   "outputs": [
    {
     "name": "stdout",
     "output_type": "stream",
     "text": [
      "Number of training examples: 50000\n",
      "Number of test examples:     10000\n"
     ]
    }
   ],
   "source": [
    "# Size of training and test sets\n",
    "train_size = metadata.splits['train'].num_examples\n",
    "test_size = metadata.splits['test'].num_examples\n",
    "print(\"Number of training examples: {}\".format(train_size))\n",
    "print(\"Number of test examples:     {}\".format(test_size))"
   ]
  },
  {
   "cell_type": "code",
   "execution_count": 4,
   "metadata": {},
   "outputs": [],
   "source": [
    "# Normalise data\n",
    "def minmaxScaling(images, labels):\n",
    "    images = tf.cast(images, tf.float32)\n",
    "    images = images/255\n",
    "    return images, labels\n",
    "\n",
    "train_dataset = train_dataset.map(minmaxScaling)\n",
    "test_dataset = test_dataset.map(minmaxScaling)"
   ]
  },
  {
   "cell_type": "code",
   "execution_count": 5,
   "metadata": {},
   "outputs": [
    {
     "data": {
      "text/plain": [
       "tfds.core.DatasetInfo(\n",
       "    name='cifar10',\n",
       "    version=1.0.2,\n",
       "    description='The CIFAR-10 dataset consists of 60000 32x32 colour images in 10 classes, with 6000 images per class. There are 50000 training images and 10000 test images.',\n",
       "    urls=['https://www.cs.toronto.edu/~kriz/cifar.html'],\n",
       "    features=FeaturesDict({\n",
       "        'image': Image(shape=(32, 32, 3), dtype=tf.uint8),\n",
       "        'label': ClassLabel(shape=(), dtype=tf.int64, num_classes=10),\n",
       "    }),\n",
       "    total_num_examples=60000,\n",
       "    splits={\n",
       "        'test': 10000,\n",
       "        'train': 50000,\n",
       "    },\n",
       "    supervised_keys=('image', 'label'),\n",
       "    citation=\"\"\"@TECHREPORT{Krizhevsky09learningmultiple,\n",
       "        author = {Alex Krizhevsky},\n",
       "        title = {Learning multiple layers of features from tiny images},\n",
       "        institution = {},\n",
       "        year = {2009}\n",
       "    }\"\"\",\n",
       "    redistribution_info=,\n",
       ")"
      ]
     },
     "execution_count": 5,
     "metadata": {},
     "output_type": "execute_result"
    }
   ],
   "source": [
    "metadata"
   ]
  },
  {
   "cell_type": "code",
   "execution_count": 6,
   "metadata": {},
   "outputs": [],
   "source": [
    "# Model setup\n",
    "# One dense layer with 128 neurons, output layer with 10 neurons\n",
    "model = tf.keras.Sequential([\n",
    "    tf.keras.layers.Flatten(input_shape=([32,32,3])),\n",
    "    tf.keras.layers.Dense(units=128, input_shape=([3072]), activation=('relu')),\n",
    "    tf.keras.layers.Dense(units=10, input_shape=([1]), activation=('softmax'))\n",
    "])\n",
    "# Compile model\n",
    "model.compile(loss='sparse_categorical_crossentropy', \n",
    "              optimizer = 'adam',\n",
    "              #optimizer = tf.keras.optimizers.Adam(0.1), \n",
    "              metrics=['accuracy'])"
   ]
  },
  {
   "cell_type": "code",
   "execution_count": 7,
   "metadata": {},
   "outputs": [],
   "source": [
    "# Shuffling and splitting of training set \n",
    "BATCH_SIZE = 32\n",
    "train_dataset = train_dataset.repeat().shuffle(train_size).batch(BATCH_SIZE)"
   ]
  },
  {
   "cell_type": "code",
   "execution_count": 10,
   "metadata": {},
   "outputs": [
    {
     "name": "stdout",
     "output_type": "stream",
     "text": [
      "Epoch 1/20\n",
      "1563/1563 [==============================] - 38s 25ms/step - loss: 1.5909 - accuracy: 0.4301\n",
      "Epoch 2/20\n",
      "1563/1563 [==============================] - 28s 18ms/step - loss: 1.5756 - accuracy: 0.4352\n",
      "Epoch 3/20\n",
      "1563/1563 [==============================] - 29s 19ms/step - loss: 1.5653 - accuracy: 0.4415\n",
      "Epoch 4/20\n",
      "1563/1563 [==============================] - 30s 19ms/step - loss: 1.5544 - accuracy: 0.4423\n",
      "Epoch 5/20\n",
      "1563/1563 [==============================] - 30s 19ms/step - loss: 1.5482 - accuracy: 0.4441\n",
      "Epoch 6/20\n",
      "1563/1563 [==============================] - 31s 20ms/step - loss: 1.5386 - accuracy: 0.4481\n",
      "Epoch 7/20\n",
      "1563/1563 [==============================] - 30s 19ms/step - loss: 1.5240 - accuracy: 0.4567\n",
      "Epoch 8/20\n",
      "1563/1563 [==============================] - 31s 20ms/step - loss: 1.5196 - accuracy: 0.4542\n",
      "Epoch 9/20\n",
      "1563/1563 [==============================] - 32s 21ms/step - loss: 1.5144 - accuracy: 0.4564\n",
      "Epoch 10/20\n",
      "1563/1563 [==============================] - 33s 21ms/step - loss: 1.5111 - accuracy: 0.4575\n",
      "Epoch 11/20\n",
      "1563/1563 [==============================] - 32s 21ms/step - loss: 1.5059 - accuracy: 0.4646\n",
      "Epoch 12/20\n",
      "1563/1563 [==============================] - 32s 20ms/step - loss: 1.4868 - accuracy: 0.4693\n",
      "Epoch 13/20\n",
      "1563/1563 [==============================] - 32s 20ms/step - loss: 1.4888 - accuracy: 0.4668\n",
      "Epoch 14/20\n",
      "1563/1563 [==============================] - 32s 20ms/step - loss: 1.4948 - accuracy: 0.4664\n",
      "Epoch 15/20\n",
      "1563/1563 [==============================] - 32s 20ms/step - loss: 1.4925 - accuracy: 0.4661\n",
      "Epoch 16/20\n",
      "1563/1563 [==============================] - 31s 20ms/step - loss: 1.4827 - accuracy: 0.4700\n",
      "Epoch 17/20\n",
      "1563/1563 [==============================] - 32s 20ms/step - loss: 1.4779 - accuracy: 0.4737\n",
      "Epoch 18/20\n",
      "1563/1563 [==============================] - 32s 20ms/step - loss: 1.4709 - accuracy: 0.4738\n",
      "Epoch 19/20\n",
      "1563/1563 [==============================] - 32s 21ms/step - loss: 1.4768 - accuracy: 0.4733\n",
      "Epoch 20/20\n",
      "1563/1563 [==============================] - 38s 24ms/step - loss: 1.4724 - accuracy: 0.4750\n"
     ]
    },
    {
     "data": {
      "text/plain": [
       "<tensorflow.python.keras.callbacks.History at 0x7f9e4c5ef828>"
      ]
     },
     "execution_count": 10,
     "metadata": {},
     "output_type": "execute_result"
    }
   ],
   "source": [
    "# Training model\n",
    "model.fit(train_dataset, epochs=20, verbose=True, steps_per_epoch=np.ceil(train_size/BATCH_SIZE))"
   ]
  }
 ],
 "metadata": {
  "kernelspec": {
   "display_name": "Python 3",
   "language": "python",
   "name": "python3"
  },
  "language_info": {
   "codemirror_mode": {
    "name": "ipython",
    "version": 3
   },
   "file_extension": ".py",
   "mimetype": "text/x-python",
   "name": "python",
   "nbconvert_exporter": "python",
   "pygments_lexer": "ipython3",
   "version": "3.7.1"
  }
 },
 "nbformat": 4,
 "nbformat_minor": 2
}
