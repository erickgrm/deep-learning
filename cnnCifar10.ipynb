{
 "cells": [
  {
   "cell_type": "code",
   "execution_count": 1,
   "metadata": {},
   "outputs": [],
   "source": [
    "import tensorflow as tf\n",
    "import numpy as np\n",
    "import matplotlib.pyplot as plt\n",
    "import pandas as pd\n",
    "import tensorflow_datasets as tfds"
   ]
  },
  {
   "cell_type": "code",
   "execution_count": 2,
   "metadata": {},
   "outputs": [
    {
     "name": "stderr",
     "output_type": "stream",
     "text": [
      "WARNING:absl:Warning: Setting shuffle_files=True because split=TRAIN and shuffle_files=None. This behavior will be deprecated on 2019-08-06, at which point shuffle_files=False will be the default for all splits.\n"
     ]
    }
   ],
   "source": [
    "# tfds.load returns a tf.data.Dataset object and a tf.core.DatasetInfo object. The latter contains info about how the set is split \n",
    "# into test and train, number of examples and names of features\n",
    "dataset, metadata = tfds.load('cifar10', as_supervised=True, with_info=True) \n",
    "train_dataset, test_dataset = dataset['train'], dataset['test']"
   ]
  },
  {
   "cell_type": "code",
   "execution_count": 8,
   "metadata": {},
   "outputs": [
    {
     "name": "stdout",
     "output_type": "stream",
     "text": [
      "Number of training examples: 50000\n",
      "Number of test examples:     10000\n"
     ]
    }
   ],
   "source": [
    "# Normalise data\n",
    "def minmaxScaling(images, labels):\n",
    "    images = tf.cast(images, tf.float32)\n",
    "    images = images/255\n",
    "    return images, labels\n",
    "\n",
    "train_dataset = train_dataset.map(minmaxScaling)\n",
    "test_dataset = test_dataset.map(minmaxScaling)\n",
    "\n",
    "# Size of training and test sets\n",
    "train_size = metadata.splits['train'].num_examples\n",
    "test_size = metadata.splits['test'].num_examples\n",
    "print(\"Number of training examples: {}\".format(train_size))\n",
    "print(\"Number of test examples:     {}\".format(test_size))"
   ]
  },
  {
   "cell_type": "code",
   "execution_count": 16,
   "metadata": {},
   "outputs": [],
   "source": [
    "model = tf.keras.Sequential([\n",
    "    tf.keras.layers.Conv2D(8, 3, padding='same'),\n",
    "    tf.keras.layers.MaxPooling2D(pool_size=2, padding='same'),\n",
    "    tf.keras.layers.Conv2D(16, 3, padding='same', activation=('relu')),\n",
    "    tf.keras.layers.MaxPooling2D(pool_size=2, padding='same'),\n",
    "    tf.keras.layers.Conv2D(32, 3, padding='same'),\n",
    "    tf.keras.layers.MaxPooling2D(pool_size=2, padding='same'),\n",
    "    tf.keras.layers.Conv2D(64, 3, padding='same', activation=('relu')),\n",
    "    tf.keras.layers.MaxPooling2D(pool_size=2, padding='same'),\n",
    "    tf.keras.layers.Flatten(),\n",
    "    tf.keras.layers.Dense(units=10, activation=('softmax'))\n",
    "])\n",
    "# Compile model\n",
    "model.compile(loss='sparse_categorical_crossentropy', \n",
    "              #optimizer = 'adam',\n",
    "              optimizer = tf.keras.optimizers.Adam(0.1), \n",
    "              metrics=['accuracy'])"
   ]
  },
  {
   "cell_type": "code",
   "execution_count": null,
   "metadata": {},
   "outputs": [],
   "source": []
  }
 ],
 "metadata": {
  "kernelspec": {
   "display_name": "Python 3",
   "language": "python",
   "name": "python3"
  },
  "language_info": {
   "codemirror_mode": {
    "name": "ipython",
    "version": 3
   },
   "file_extension": ".py",
   "mimetype": "text/x-python",
   "name": "python",
   "nbconvert_exporter": "python",
   "pygments_lexer": "ipython3",
   "version": "3.7.1"
  }
 },
 "nbformat": 4,
 "nbformat_minor": 2
}
