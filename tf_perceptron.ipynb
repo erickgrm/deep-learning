{
 "cells": [
  {
   "cell_type": "markdown",
   "metadata": {},
   "source": [
    "## Using tensorflow to learn the logical functions and/or/nand/nor/xor"
   ]
  },
  {
   "cell_type": "code",
   "execution_count": 2,
   "metadata": {},
   "outputs": [],
   "source": [
    "import tensorflow as tf\n",
    "import numpy as np\n",
    "import matplotlib.pyplot as plt"
   ]
  },
  {
   "cell_type": "code",
   "execution_count": 3,
   "metadata": {},
   "outputs": [],
   "source": [
    "# training set\n",
    "X = np.array([[0,0],[0,1],[1,0],[1,1]], dtype=float)\n",
    "y_and = np.array([0,0,0,1] , dtype=float)\n",
    "y_or = np.array([0,1,1,1], dtype=float)\n",
    "y_nand = np.array([1,1,1,0], dtype=float)\n",
    "y_nor = np.array([1,0,0,0], dtype=float)"
   ]
  },
  {
   "cell_type": "code",
   "execution_count": 30,
   "metadata": {},
   "outputs": [
    {
     "name": "stdout",
     "output_type": "stream",
     "text": [
      "Best error =  0.0004310548538342118\n"
     ]
    },
    {
     "data": {
      "text/plain": [
       "[<matplotlib.lines.Line2D at 0x7feaf911eda0>]"
      ]
     },
     "execution_count": 30,
     "metadata": {},
     "output_type": "execute_result"
    },
    {
     "data": {
      "image/png": "[encoded data removed]",
      "text/plain": [
       "<Figure size 432x288 with 1 Axes>"
      ]
     },
     "metadata": {
      "needs_background": "light"
     },
     "output_type": "display_data"
    }
   ],
   "source": [
    "# Model setup (works for and/or/nand/nor)\n",
    "model = tf.keras.Sequential([\n",
    "    tf.keras.layers.Dense(units=1, input_shape=([2]), activation = ('sigmoid'))\n",
    "])\n",
    "\n",
    "# Compile the model\n",
    "model.compile(loss='mean_squared_error', optimizer = tf.keras.optimizers.Adam(0.1))\n",
    "\n",
    "# Training \n",
    "trained = model.fit(X, y_and, epochs = 1000, verbose=False)\n",
    "print(\"Best error = \", trained.history['loss'][-1])\n",
    "plt.plot(trained.history['loss'])"
   ]
  },
  {
   "cell_type": "code",
   "execution_count": 24,
   "metadata": {},
   "outputs": [
    {
     "name": "stdout",
     "output_type": "stream",
     "text": [
      "[[0.]\n",
      " [0.]\n",
      " [0.]\n",
      " [1.]]\n",
      "The weights of the trained model are:  [array([[3.4847052],\n",
      "       [3.4096432]], dtype=float32), array([-5.2206717], dtype=float32)]\n"
     ]
    }
   ],
   "source": [
    "print(np.round(model.predict(X)))\n",
    "print(\"The weights of the trained model are: \", model.get_weights())"
   ]
  },
  {
   "cell_type": "markdown",
   "metadata": {},
   "source": [
    "## Single-layer perceptron cannot learn xor"
   ]
  },
  {
   "cell_type": "code",
   "execution_count": 36,
   "metadata": {},
   "outputs": [
    {
     "name": "stdout",
     "output_type": "stream",
     "text": [
      "Best error = 0.25000059604644775\n"
     ]
    },
    {
     "data": {
      "text/plain": [
       "[<matplotlib.lines.Line2D at 0x7feaee88cf98>]"
      ]
     },
     "execution_count": 36,
     "metadata": {},
     "output_type": "execute_result"
    },
    {
     "data": {
      "image/png": "[encoded data removed]",
      "text/plain": [
       "<Figure size 432x288 with 1 Axes>"
      ]
     },
     "metadata": {
      "needs_background": "light"
     },
     "output_type": "display_data"
    }
   ],
   "source": [
    "# A perceptron (single dense layer) cannot learn the exclusive or\n",
    "y_xor = np.array([0,1,1,0], dtype=float)\n",
    "# Model setup\n",
    "model_xor = tf.keras.Sequential([\n",
    "    tf.keras.layers.Dense(units=1, input_shape=([2]), activation=('tanh'))\n",
    "])\n",
    "# Compile model\n",
    "model_xor.compile(loss='mean_squared_error', optimizer = tf.keras.optimizers.Adam(0.1))\n",
    "# Training for x_or; note the model is trained for 5000 epochs\n",
    "trained_xor = model_xor.fit(X, y_xor, epochs = 5000, verbose=False)\n",
    "print(\"Best error =\", trained_xor.history['loss'][-1])\n",
    "plt.plot(trained_xor.history['loss'])"
   ]
  },
  {
   "cell_type": "code",
   "execution_count": 37,
   "metadata": {},
   "outputs": [
    {
     "name": "stdout",
     "output_type": "stream",
     "text": [
      "[[-0.]\n",
      " [ 1.]\n",
      " [ 1.]\n",
      " [ 1.]]\n"
     ]
    }
   ],
   "source": [
    "# Bad predictions\n",
    "print(np.round(model_xor.predict(X)))"
   ]
  },
  {
   "cell_type": "markdown",
   "metadata": {},
   "source": [
    "## Double layer perceptron for the xor problem"
   ]
  },
  {
   "cell_type": "code",
   "execution_count": 77,
   "metadata": {},
   "outputs": [
    {
     "name": "stdout",
     "output_type": "stream",
     "text": [
      "Best error =  4.4231285301066237e-13\n"
     ]
    },
    {
     "data": {
      "text/plain": [
       "[<matplotlib.lines.Line2D at 0x7fea8d6e0e10>]"
      ]
     },
     "execution_count": 77,
     "metadata": {},
     "output_type": "execute_result"
    },
    {
     "data": {
      "image/png": "[encoded data removed]",
      "text/plain": [
       "<Figure size 576x288 with 1 Axes>"
      ]
     },
     "metadata": {
      "needs_background": "light"
     },
     "output_type": "display_data"
    }
   ],
   "source": [
    "# A double layer perceptron can learn the exclusive or\n",
    "# Model setup: 2 neurons on first layer, 1 neuron on second layer.\n",
    "model_db = tf.keras.Sequential([\n",
    "    # It is extremely important to use a nonlinear activation function in the first layer.\n",
    "    # If sigmoid is used, converges very slowly; best is tanh\n",
    "    tf.keras.layers.Dense(units=2, input_shape=([2]), activation=('tanh')),\n",
    "    tf.keras.layers.Dense(units=1) \n",
    "])\n",
    "\n",
    "# Compile model\n",
    "model_db.compile(loss='mean_squared_error', optimizer = tf.keras.optimizers.Adam(0.1))\n",
    "# Training for x_or\n",
    "trained_db = model_db.fit(X, y_xor, epochs = 1200, verbose=False)\n",
    "print(\"Best error = \", trained_db.history['loss'][-1])\n",
    "plt.figure(figsize=(8,4))\n",
    "plt.plot(trained_db.history['loss'])"
   ]
  },
  {
   "cell_type": "code",
   "execution_count": 78,
   "metadata": {},
   "outputs": [
    {
     "name": "stdout",
     "output_type": "stream",
     "text": [
      "[[0.]\n",
      " [1.]\n",
      " [1.]\n",
      " [0.]]\n",
      "The weights of the trained model are:  [array([[7.4153147],\n",
      "       [7.3652964]], dtype=float32), array([-11.128121], dtype=float32)]\n"
     ]
    }
   ],
   "source": [
    "# Good predictions\n",
    "print(np.round(model_db.predict(X)))\n",
    "print(\"The weights of the trained model are: \", model.get_weights())"
   ]
  }
 ],
 "metadata": {
  "kernelspec": {
   "display_name": "Python 3",
   "language": "python",
   "name": "python3"
  },
  "language_info": {
   "codemirror_mode": {
    "name": "ipython",
    "version": 3
   },
   "file_extension": ".py",
   "mimetype": "text/x-python",
   "name": "python",
   "nbconvert_exporter": "python",
   "pygments_lexer": "ipython3",
   "version": "3.7.1"
  }
 },
 "nbformat": 4,
 "nbformat_minor": 2
}
